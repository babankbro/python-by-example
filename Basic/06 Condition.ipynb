{
 "cells": [
  {
   "cell_type": "markdown",
   "metadata": {},
   "source": [
    "# เงื่อนไข if"
   ]
  },
  {
   "cell_type": "code",
   "execution_count": null,
   "metadata": {
    "collapsed": true
   },
   "outputs": [],
   "source": []
  },
  {
   "cell_type": "code",
   "execution_count": 115,
   "metadata": {},
   "outputs": [
    {
     "name": "stdout",
     "output_type": "stream",
     "text": [
      "More than 5\n",
      "End\n"
     ]
    }
   ],
   "source": [
    "score = 10\n",
    "if score > 5:\n",
    "    print(\"More than 5\")\n",
    "\n",
    "print(\"End\")"
   ]
  },
  {
   "cell_type": "code",
   "execution_count": 116,
   "metadata": {},
   "outputs": [
    {
     "name": "stdout",
     "output_type": "stream",
     "text": [
      "End\n"
     ]
    }
   ],
   "source": [
    "score = 0\n",
    "if score > 5:\n",
    "    print(\"More than 5\")\n",
    "\n",
    "print(\"End\")"
   ]
  },
  {
   "cell_type": "code",
   "execution_count": 117,
   "metadata": {},
   "outputs": [
    {
     "name": "stdout",
     "output_type": "stream",
     "text": [
      "Less than 5\n",
      "End\n"
     ]
    }
   ],
   "source": [
    "score = 0\n",
    "if score > 5:\n",
    "    print(\"More than 5\")\n",
    "if score < 5:\n",
    "    print(\"Less than 5\")\n",
    "\n",
    "print(\"End\")"
   ]
  },
  {
   "cell_type": "code",
   "execution_count": 118,
   "metadata": {},
   "outputs": [
    {
     "name": "stdout",
     "output_type": "stream",
     "text": [
      "End\n"
     ]
    }
   ],
   "source": [
    "score = 5\n",
    "if score > 5:\n",
    "    print(\"More than 5\")\n",
    "if score < 5:\n",
    "    print(\"Less than 5\")\n",
    "\n",
    "print(\"End\")"
   ]
  },
  {
   "cell_type": "code",
   "execution_count": 119,
   "metadata": {},
   "outputs": [
    {
     "name": "stdout",
     "output_type": "stream",
     "text": [
      "Less than and equal 5\n",
      "End\n"
     ]
    }
   ],
   "source": [
    "score = 0\n",
    "if score > 5:\n",
    "    print(\"More than 5\")\n",
    "if score <= 5:\n",
    "    print(\"Less than and equal 5\")\n",
    "\n",
    "print(\"End\")"
   ]
  },
  {
   "cell_type": "markdown",
   "metadata": {},
   "source": [
    "## การเขียน if-else"
   ]
  },
  {
   "cell_type": "code",
   "execution_count": 120,
   "metadata": {},
   "outputs": [
    {
     "name": "stdout",
     "output_type": "stream",
     "text": [
      "Less than and equal 5\n",
      "End\n"
     ]
    }
   ],
   "source": [
    "score = 0\n",
    "if score > 5:\n",
    "    print(\"More than 5\")\n",
    "else:\n",
    "    print(\"Less than and equal 5\")\n",
    "\n",
    "print(\"End\")"
   ]
  },
  {
   "cell_type": "code",
   "execution_count": 121,
   "metadata": {},
   "outputs": [
    {
     "name": "stdout",
     "output_type": "stream",
     "text": [
      "Less than 5\n",
      "End\n"
     ]
    }
   ],
   "source": [
    "score = 0\n",
    "if score > 5:\n",
    "    print(\"More than 5\")\n",
    "elif score < 5:\n",
    "    print(\"Less than 5\")\n",
    "else :\n",
    "    print(\"Equal to 5\")\n",
    "\n",
    "print(\"End\")"
   ]
  },
  {
   "cell_type": "markdown",
   "metadata": {},
   "source": [
    "## การตัดเกรด"
   ]
  },
  {
   "cell_type": "code",
   "execution_count": 122,
   "metadata": {
    "collapsed": true
   },
   "outputs": [],
   "source": [
    "def grade(score):\n",
    "    if score >= 80:\n",
    "        print('A')\n",
    "    elif score >= 70:\n",
    "        print('B')\n",
    "    elif score >= 60:\n",
    "        print('C')\n",
    "    elif score >= 50:\n",
    "        print('D')\n",
    "    else:\n",
    "        print('F')\n",
    " "
   ]
  },
  {
   "cell_type": "code",
   "execution_count": 123,
   "metadata": {},
   "outputs": [
    {
     "name": "stdout",
     "output_type": "stream",
     "text": [
      "A\n",
      "B\n",
      "C\n",
      "D\n",
      "F\n"
     ]
    }
   ],
   "source": [
    "grade(85)\n",
    "grade(75)\n",
    "grade(65)\n",
    "grade(55)\n",
    "grade(30)"
   ]
  },
  {
   "cell_type": "markdown",
   "metadata": {},
   "source": [
    "## block"
   ]
  },
  {
   "cell_type": "code",
   "execution_count": 124,
   "metadata": {
    "collapsed": true
   },
   "outputs": [],
   "source": [
    "def line(x, n):\n",
    "    for i in range(n):\n",
    "        if i == x: \n",
    "            print(\"#\", end='')\n",
    "        else:\n",
    "            print(\"o\", end='')\n",
    "    print()"
   ]
  },
  {
   "cell_type": "code",
   "execution_count": 125,
   "metadata": {},
   "outputs": [
    {
     "name": "stdout",
     "output_type": "stream",
     "text": [
      "oo#ooooooo\n"
     ]
    }
   ],
   "source": [
    "line(2, 10)"
   ]
  },
  {
   "cell_type": "code",
   "execution_count": 126,
   "metadata": {
    "collapsed": true
   },
   "outputs": [],
   "source": [
    "def block(n):\n",
    "    for i in range(n):\n",
    "        line(i, n)"
   ]
  },
  {
   "cell_type": "code",
   "execution_count": 127,
   "metadata": {},
   "outputs": [
    {
     "name": "stdout",
     "output_type": "stream",
     "text": [
      "#ooooooooo\n",
      "o#oooooooo\n",
      "oo#ooooooo\n",
      "ooo#oooooo\n",
      "oooo#ooooo\n",
      "ooooo#oooo\n",
      "oooooo#ooo\n",
      "ooooooo#oo\n",
      "oooooooo#o\n",
      "ooooooooo#\n"
     ]
    }
   ],
   "source": [
    "block(10)"
   ]
  },
  {
   "cell_type": "code",
   "execution_count": 128,
   "metadata": {
    "collapsed": true
   },
   "outputs": [],
   "source": [
    "def linex(x, n):\n",
    "    for i in range(n):\n",
    "        if i == x or i == (n - x-1): \n",
    "            print(\"#\", end='')\n",
    "        else:\n",
    "            print(\"o\", end='')\n",
    "    print()"
   ]
  },
  {
   "cell_type": "code",
   "execution_count": 129,
   "metadata": {},
   "outputs": [
    {
     "name": "stdout",
     "output_type": "stream",
     "text": [
      "oo#oooo#oo\n"
     ]
    }
   ],
   "source": [
    "linex(2, 10)"
   ]
  },
  {
   "cell_type": "code",
   "execution_count": 130,
   "metadata": {
    "collapsed": true
   },
   "outputs": [],
   "source": [
    "def blockx(n):\n",
    "    for i in range(n):\n",
    "        linex(i, n)"
   ]
  },
  {
   "cell_type": "code",
   "execution_count": 131,
   "metadata": {},
   "outputs": [
    {
     "name": "stdout",
     "output_type": "stream",
     "text": [
      "#oooooooo#\n",
      "o#oooooo#o\n",
      "oo#oooo#oo\n",
      "ooo#oo#ooo\n",
      "oooo##oooo\n",
      "oooo##oooo\n",
      "ooo#oo#ooo\n",
      "oo#oooo#oo\n",
      "o#oooooo#o\n",
      "#oooooooo#\n"
     ]
    }
   ],
   "source": [
    "blockx(10)"
   ]
  }
 ],
 "metadata": {
  "kernelspec": {
   "display_name": "Python 3",
   "language": "python",
   "name": "python3"
  },
  "language_info": {
   "codemirror_mode": {
    "name": "ipython",
    "version": 3
   },
   "file_extension": ".py",
   "mimetype": "text/x-python",
   "name": "python",
   "nbconvert_exporter": "python",
   "pygments_lexer": "ipython3",
   "version": "3.6.2"
  }
 },
 "nbformat": 4,
 "nbformat_minor": 2
}
