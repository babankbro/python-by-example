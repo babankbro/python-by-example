{
 "cells": [
  {
   "cell_type": "markdown",
   "metadata": {},
   "source": [
    "# ฟังก์ชัน"
   ]
  },
  {
   "cell_type": "markdown",
   "metadata": {},
   "source": [
    "## ประกาศฟังก์ชัน"
   ]
  },
  {
   "cell_type": "code",
   "execution_count": 7,
   "metadata": {},
   "outputs": [
    {
     "name": "stdout",
     "output_type": "stream",
     "text": [
      "Hello Sarayut\n"
     ]
    }
   ],
   "source": [
    "print(\"Hello Sarayut\")"
   ]
  },
  {
   "cell_type": "code",
   "execution_count": 8,
   "metadata": {
    "collapsed": true
   },
   "outputs": [],
   "source": [
    "#สร้างฟังก์ชัน ทักทาย\n",
    "def greet():\n",
    "    print(\"Hello Sarayut\")"
   ]
  },
  {
   "cell_type": "code",
   "execution_count": 9,
   "metadata": {},
   "outputs": [
    {
     "name": "stdout",
     "output_type": "stream",
     "text": [
      "Hello Sarayut\n"
     ]
    }
   ],
   "source": [
    "#เรียกใช้\n",
    "greet()"
   ]
  },
  {
   "cell_type": "markdown",
   "metadata": {},
   "source": [
    "## ประกาศฟังก์ชันพร้อมส่งค่า\n",
    "ถ้าต้องการฟังก์ชันที่ส่งชื่อ เพื่อทักทาย ระบุชื่ได้เช่น <br/>\n",
    "greet(\"Mr. A\")<br/>\n",
    "greet(\"Sarayut\")"
   ]
  },
  {
   "cell_type": "code",
   "execution_count": 10,
   "metadata": {
    "collapsed": true
   },
   "outputs": [],
   "source": [
    "#สร้างฟังก์ชัน ทักทาย รับ ชื่อ\n",
    "def greet(name):\n",
    "    print(\"Hello\" , name)"
   ]
  },
  {
   "cell_type": "code",
   "execution_count": 11,
   "metadata": {},
   "outputs": [
    {
     "name": "stdout",
     "output_type": "stream",
     "text": [
      "Hello Mr. A\n",
      "Hello Sarayut\n"
     ]
    }
   ],
   "source": [
    "#เรียกใช้\n",
    "greet(\"Mr. A\")\n",
    "greet(\"Sarayut\")"
   ]
  },
  {
   "cell_type": "markdown",
   "metadata": {},
   "source": [
    "## ฟังก์ชันเรียกใช้ฟังก์ชัน (Function Flow)\n",
    "สร้างฟังก์ชัน พิมพ์ กล่อง ที่เกิดจากการพิมพ์ line"
   ]
  }
 ],
 "metadata": {
  "kernelspec": {
   "display_name": "Python 3",
   "language": "python",
   "name": "python3"
  },
  "language_info": {
   "codemirror_mode": {
    "name": "ipython",
    "version": 3
   },
   "file_extension": ".py",
   "mimetype": "text/x-python",
   "name": "python",
   "nbconvert_exporter": "python",
   "pygments_lexer": "ipython3",
   "version": "3.5.2"
  }
 },
 "nbformat": 4,
 "nbformat_minor": 2
}
