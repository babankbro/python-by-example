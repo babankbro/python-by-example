{
 "cells": [
  {
   "cell_type": "markdown",
   "metadata": {},
   "source": [
    "## Depth First Search"
   ]
  },
  {
   "cell_type": "markdown",
   "metadata": {},
   "source": [
    "สร้าง problem.py โดยคัดลอกโค้ดจาก กราฟหน้าที่เเล้ว"
   ]
  },
  {
   "cell_type": "markdown",
   "metadata": {},
   "source": [
    "<img src = \"images/02.png\">"
   ]
  },
  {
   "cell_type": "code",
   "execution_count": 16,
   "metadata": {
    "scrolled": true
   },
   "outputs": [],
   "source": [
    "from problem import *"
   ]
  },
  {
   "cell_type": "markdown",
   "metadata": {},
   "source": [
    "## ฟังก์ชัน DFS"
   ]
  },
  {
   "cell_type": "code",
   "execution_count": 17,
   "metadata": {},
   "outputs": [],
   "source": [
    "def dfsSearch(graph, start, end):\n",
    "    stack = []\n",
    "    node = graph.nodes[start]\n",
    "    stack.append(node)\n",
    "    closedList = [start]\n",
    "    \n",
    "    while len(stack) != 0:\n",
    "        print( [node.name for node in stack])\n",
    "        current = stack.pop()\n",
    "        print(current.name)\n",
    "        if current.name == end:\n",
    "            break;\n",
    "            \n",
    "        for name in current.connect:\n",
    "            childNode = graph.nodes[name]\n",
    "            \n",
    "            if name in closedList:\n",
    "                continue\n",
    "            \n",
    "            closedList.append(childNode.name)\n",
    "            stack.append(childNode)\n",
    "            \n",
    "    "
   ]
  },
  {
   "cell_type": "code",
   "execution_count": 18,
   "metadata": {},
   "outputs": [
    {
     "name": "stdout",
     "output_type": "stream",
     "text": [
      "['Arad']\n",
      "Arad\n",
      "['Sibiu', 'Timisoara', 'Zerid']\n",
      "Zerid\n",
      "['Sibiu', 'Timisoara', 'Oradea']\n",
      "Oradea\n",
      "['Sibiu', 'Timisoara']\n",
      "Timisoara\n",
      "['Sibiu', 'Lugoj']\n",
      "Lugoj\n",
      "['Sibiu', 'Mehadia']\n",
      "Mehadia\n",
      "['Sibiu', 'Drobeta']\n",
      "Drobeta\n",
      "['Sibiu', 'Craiova']\n",
      "Craiova\n",
      "['Sibiu', 'Rimnicu Vilcea', 'Pitesti']\n",
      "Pitesti\n",
      "['Sibiu', 'Rimnicu Vilcea', 'Bucharest']\n",
      "Bucharest\n",
      "['Sibiu', 'Rimnicu Vilcea', 'Urziceni', 'Giurgiu']\n",
      "Giurgiu\n",
      "['Sibiu', 'Rimnicu Vilcea', 'Urziceni']\n",
      "Urziceni\n",
      "['Sibiu', 'Rimnicu Vilcea', 'Vaslui', 'Hirsova']\n",
      "Hirsova\n",
      "['Sibiu', 'Rimnicu Vilcea', 'Vaslui', 'Eforie']\n",
      "Eforie\n",
      "['Sibiu', 'Rimnicu Vilcea', 'Vaslui']\n",
      "Vaslui\n",
      "['Sibiu', 'Rimnicu Vilcea', 'Iasi']\n",
      "Iasi\n",
      "['Sibiu', 'Rimnicu Vilcea', 'Neamt']\n",
      "Neamt\n",
      "['Sibiu', 'Rimnicu Vilcea']\n",
      "Rimnicu Vilcea\n"
     ]
    }
   ],
   "source": [
    "dfsSearch(graph, \"Arad\", \"Rimnicu Vilcea\")"
   ]
  }
 ],
 "metadata": {
  "kernelspec": {
   "display_name": "Python 3",
   "language": "python",
   "name": "python3"
  },
  "language_info": {
   "codemirror_mode": {
    "name": "ipython",
    "version": 3
   },
   "file_extension": ".py",
   "mimetype": "text/x-python",
   "name": "python",
   "nbconvert_exporter": "python",
   "pygments_lexer": "ipython3",
   "version": "3.5.2"
  }
 },
 "nbformat": 4,
 "nbformat_minor": 2
}
