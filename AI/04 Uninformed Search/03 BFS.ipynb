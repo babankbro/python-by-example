{
 "cells": [
  {
   "cell_type": "markdown",
   "metadata": {},
   "source": [
    "## BFS ฟังก์ชัน "
   ]
  },
  {
   "cell_type": "code",
   "execution_count": 10,
   "metadata": {},
   "outputs": [],
   "source": [
    "from problem import *\n",
    "from collections import deque"
   ]
  },
  {
   "cell_type": "code",
   "execution_count": 11,
   "metadata": {
    "collapsed": true
   },
   "outputs": [],
   "source": [
    "def bfsSearch(graph, start, end):\n",
    "    queue = deque([])\n",
    "    node = graph.nodes[start]\n",
    "    queue.append(node)\n",
    "    closedList = [start]\n",
    "    \n",
    "    while len(queue) != 0:\n",
    "        print( [node.name for node in queue])\n",
    "        current = queue.popleft()\n",
    "        print(current.name)\n",
    "        if current.name == end:\n",
    "            break;\n",
    "            \n",
    "        for name in current.connect:\n",
    "            childNode = graph.nodes[name]\n",
    "            \n",
    "            if name in closedList:\n",
    "                continue\n",
    "            \n",
    "            closedList.append(childNode.name)\n",
    "            queue.append(childNode)\n",
    "            "
   ]
  },
  {
   "cell_type": "code",
   "execution_count": 12,
   "metadata": {},
   "outputs": [
    {
     "name": "stdout",
     "output_type": "stream",
     "text": [
      "['Arad']\n",
      "Arad\n",
      "['Sibiu', 'Zerid', 'Timisoara']\n",
      "Sibiu\n",
      "['Zerid', 'Timisoara', 'Rimnicu Vilcea', 'Fagaras', 'Oradea']\n",
      "Zerid\n",
      "['Timisoara', 'Rimnicu Vilcea', 'Fagaras', 'Oradea']\n",
      "Timisoara\n",
      "['Rimnicu Vilcea', 'Fagaras', 'Oradea', 'Lugoj']\n",
      "Rimnicu Vilcea\n"
     ]
    }
   ],
   "source": [
    "bfsSearch(graph, \"Arad\", \"Rimnicu Vilcea\")"
   ]
  }
 ],
 "metadata": {
  "kernelspec": {
   "display_name": "Python 3",
   "language": "python",
   "name": "python3"
  },
  "language_info": {
   "codemirror_mode": {
    "name": "ipython",
    "version": 3
   },
   "file_extension": ".py",
   "mimetype": "text/x-python",
   "name": "python",
   "nbconvert_exporter": "python",
   "pygments_lexer": "ipython3",
   "version": "3.5.2"
  }
 },
 "nbformat": 4,
 "nbformat_minor": 2
}
