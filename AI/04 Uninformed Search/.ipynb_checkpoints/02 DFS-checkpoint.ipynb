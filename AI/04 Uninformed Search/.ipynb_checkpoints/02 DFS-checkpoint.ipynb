{
 "cells": [
  {
   "cell_type": "markdown",
   "metadata": {},
   "source": [
    "## Depth First Search"
   ]
  },
  {
   "cell_type": "markdown",
   "metadata": {},
   "source": [
    "สร้าง problem.py โดยคัดลอกโค้ดจาก กราฟหน้าที่เเล้ว"
   ]
  },
  {
   "cell_type": "markdown",
   "metadata": {},
   "source": [
    "<img src = \"images/02.png\">"
   ]
  },
  {
   "cell_type": "code",
   "execution_count": 11,
   "metadata": {
    "scrolled": true
   },
   "outputs": [],
   "source": [
    "from problem import *"
   ]
  },
  {
   "cell_type": "markdown",
   "metadata": {},
   "source": [
    "## ฟังก์ชัน DFS"
   ]
  },
  {
   "cell_type": "code",
   "execution_count": 12,
   "metadata": {
    "collapsed": true
   },
   "outputs": [],
   "source": [
    "def dfsSearch(graph, start, end):\n",
    "    stack = []\n",
    "    node = graph.nodes[start]\n",
    "    stack.append(node)\n",
    "    closedList = [start]\n",
    "    \n",
    "    while len(stack) != 0:\n",
    "        print [node.name for node in stack]\n",
    "        current = stack.pop()\n",
    "        print(current.name)\n",
    "        if current.name == end:\n",
    "            break;\n",
    "            \n",
    "        for name in current.connect:\n",
    "            childNode = graph.nodes[name]\n",
    "            \n",
    "            if name in closedList:\n",
    "                continue\n",
    "            \n",
    "            closedList.append(childNode.name)\n",
    "            stack.append(childNode)\n",
    "            \n",
    "    "
   ]
  },
  {
   "cell_type": "code",
   "execution_count": 13,
   "metadata": {},
   "outputs": [
    {
     "name": "stdout",
     "output_type": "stream",
     "text": [
      "[<node.Node object at 0x00000083AC386A20>]\n",
      "Arad\n",
      "[<node.Node object at 0x00000083AE1CF1D0>, <node.Node object at 0x00000083AE1CF208>, <node.Node object at 0x00000083AC386DD8>]\n",
      "Zerid\n",
      "[<node.Node object at 0x00000083AE1CF1D0>, <node.Node object at 0x00000083AE1CF208>, <node.Node object at 0x00000083AE1CF198>]\n",
      "Oradea\n",
      "[<node.Node object at 0x00000083AE1CF1D0>, <node.Node object at 0x00000083AE1CF208>]\n",
      "Timisoara\n",
      "[<node.Node object at 0x00000083AE1CF1D0>, <node.Node object at 0x00000083AE1CF240>]\n",
      "Lugoj\n",
      "[<node.Node object at 0x00000083AE1CF1D0>, <node.Node object at 0x00000083AE1CF278>]\n",
      "Mehadia\n",
      "[<node.Node object at 0x00000083AE1CF1D0>, <node.Node object at 0x00000083AE1CF2B0>]\n",
      "Drobeta\n",
      "[<node.Node object at 0x00000083AE1CF1D0>, <node.Node object at 0x00000083AE1CF2E8>]\n",
      "Craiova\n",
      "[<node.Node object at 0x00000083AE1CF1D0>, <node.Node object at 0x00000083AE1CF320>, <node.Node object at 0x00000083AE1CF358>]\n",
      "Pitesti\n",
      "[<node.Node object at 0x00000083AE1CF1D0>, <node.Node object at 0x00000083AE1CF320>, <node.Node object at 0x00000083AE1CF3C8>]\n",
      "Bucharest\n",
      "[<node.Node object at 0x00000083AE1CF1D0>, <node.Node object at 0x00000083AE1CF320>, <node.Node object at 0x00000083AE1CF438>, <node.Node object at 0x00000083AE1CF400>]\n",
      "Giurgiu\n",
      "[<node.Node object at 0x00000083AE1CF1D0>, <node.Node object at 0x00000083AE1CF320>, <node.Node object at 0x00000083AE1CF438>]\n",
      "Urziceni\n",
      "[<node.Node object at 0x00000083AE1CF1D0>, <node.Node object at 0x00000083AE1CF320>, <node.Node object at 0x00000083AE1CF470>, <node.Node object at 0x00000083AE1CF518>]\n",
      "Hirsova\n",
      "[<node.Node object at 0x00000083AE1CF1D0>, <node.Node object at 0x00000083AE1CF320>, <node.Node object at 0x00000083AE1CF470>, <node.Node object at 0x00000083AE1CF550>]\n",
      "Eforie\n",
      "[<node.Node object at 0x00000083AE1CF1D0>, <node.Node object at 0x00000083AE1CF320>, <node.Node object at 0x00000083AE1CF470>]\n",
      "Vaslui\n",
      "[<node.Node object at 0x00000083AE1CF1D0>, <node.Node object at 0x00000083AE1CF320>, <node.Node object at 0x00000083AE1CF4A8>]\n",
      "Iasi\n",
      "[<node.Node object at 0x00000083AE1CF1D0>, <node.Node object at 0x00000083AE1CF320>, <node.Node object at 0x00000083AE1CF4E0>]\n",
      "Neamt\n",
      "[<node.Node object at 0x00000083AE1CF1D0>, <node.Node object at 0x00000083AE1CF320>]\n",
      "Rimnicu Vilcea\n"
     ]
    }
   ],
   "source": [
    "dfsSearch(graph, \"Arad\", \"Rimnicu Vilcea\")"
   ]
  }
 ],
 "metadata": {
  "kernelspec": {
   "display_name": "Python 3",
   "language": "python",
   "name": "python3"
  },
  "language_info": {
   "codemirror_mode": {
    "name": "ipython",
    "version": 3
   },
   "file_extension": ".py",
   "mimetype": "text/x-python",
   "name": "python",
   "nbconvert_exporter": "python",
   "pygments_lexer": "ipython3",
   "version": "3.5.2"
  }
 },
 "nbformat": 4,
 "nbformat_minor": 2
}
