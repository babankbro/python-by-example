{
 "cells": [
  {
   "cell_type": "markdown",
   "metadata": {},
   "source": [
    "## update  cell.py"
   ]
  },
  {
   "cell_type": "code",
   "execution_count": 1,
   "metadata": {
    "collapsed": true
   },
   "outputs": [],
   "source": [
    " # ภายใน  class Cell\n",
    "def checkNeigbhors(self):\n",
    "    neighbor = []\n",
    "    top = self.map.get(self.i - 1, self.j)\n",
    "    if top and not top.visited:\n",
    "        neighbor.append(top)\n",
    "    bottom = self.map.get(self.i + 1, self.j)\n",
    "    if bottom and not bottom.visited:\n",
    "        neighbor.append(bottom)\n",
    "    left = map.get(this.i, this.j-1);\n",
    "    if left and not left.visited:\n",
    "        neighbor.append(left)\n",
    "    right = map.get(this.i, this.j-1);\n",
    "    if right and not right.visited:\n",
    "        neighbor.append(right)"
   ]
  },
  {
   "cell_type": "markdown",
   "metadata": {},
   "source": [
    "## update  maze_map.py"
   ]
  },
  {
   "cell_type": "code",
   "execution_count": 2,
   "metadata": {
    "collapsed": true
   },
   "outputs": [],
   "source": [
    " # ภายใน  class MazeMap\n",
    "def get(self, i, j):\n",
    "    if i < 0 or j < 0 or i >= self.nRow or j >= self.nCol:\n",
    "        return None\n",
    "    index = j + i*self.nCol\n",
    "    return self.cells[index]\n",
    "\n",
    "def move(self):\n",
    "    next = self.current.checkNeigbhors()\n",
    "    if next != None:\n",
    "        self.current = next\n",
    "        self.visited = True\n",
    "    else:\n",
    "        current = self.pathStack.pop()\n",
    "        "
   ]
  },
  {
   "cell_type": "markdown",
   "metadata": {},
   "source": [
    "## update Test Map"
   ]
  },
  {
   "cell_type": "code",
   "execution_count": null,
   "metadata": {
    "collapsed": true
   },
   "outputs": [],
   "source": []
  }
 ],
 "metadata": {
  "kernelspec": {
   "display_name": "Python 3",
   "language": "python",
   "name": "python3"
  },
  "language_info": {
   "codemirror_mode": {
    "name": "ipython",
    "version": 3
   },
   "file_extension": ".py",
   "mimetype": "text/x-python",
   "name": "python",
   "nbconvert_exporter": "python",
   "pygments_lexer": "ipython3",
   "version": "3.5.2"
  }
 },
 "nbformat": 4,
 "nbformat_minor": 2
}
