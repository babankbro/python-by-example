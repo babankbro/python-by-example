{
 "cells": [
  {
   "cell_type": "markdown",
   "metadata": {},
   "source": [
    "<img src=\"images/01.png\">"
   ]
  },
  {
   "cell_type": "markdown",
   "metadata": {},
   "source": [
    "## การสร้างโหนดเเละกราฟ"
   ]
  },
  {
   "cell_type": "code",
   "execution_count": 67,
   "metadata": {
    "collapsed": true
   },
   "outputs": [],
   "source": [
    "#ประกาศ class Node\n",
    "class Node:\n",
    "    \n",
    "    def __init__(self, name):\n",
    "        self.name = name\n",
    "        self.connect = {}\n",
    "        \n",
    "    def __str__(self):\n",
    "        return \"Node [Name: \"+self.name+\", Connect:\"+str(self.connect.keys())+\"]\""
   ]
  },
  {
   "cell_type": "code",
   "execution_count": 68,
   "metadata": {},
   "outputs": [
    {
     "name": "stdout",
     "output_type": "stream",
     "text": [
      "Node [Name: A, Connect:dict_keys([])]\n"
     ]
    }
   ],
   "source": [
    "n1 = Node(\"A\")\n",
    "print(n1)"
   ]
  },
  {
   "cell_type": "code",
   "execution_count": 69,
   "metadata": {
    "collapsed": true
   },
   "outputs": [],
   "source": [
    "#ประกาศ class Graph\n",
    "class Graph:\n",
    "    \n",
    "    def __init__(self):\n",
    "        self.nodes = {}\n",
    "    \n",
    "    def addNode(self, node):\n",
    "        self.nodes[node.name] = node;\n",
    "    \n",
    "    def connect(self, name1, name2):\n",
    "        node1 = self.nodes[name1]\n",
    "        node2 = self.nodes[name2]\n",
    "        node1.connect[name2] = node2\n",
    "        node2.connect[name1] = node1\n",
    "    \n",
    "    def __str__(self):\n",
    "        toString = \"\"\n",
    "        for key in self.nodes:\n",
    "            toString += str(self.nodes[key]) + \"\\n\"\n",
    "        return toString"
   ]
  },
  {
   "cell_type": "code",
   "execution_count": 70,
   "metadata": {},
   "outputs": [
    {
     "name": "stdout",
     "output_type": "stream",
     "text": [
      "20\n"
     ]
    }
   ],
   "source": [
    "names = ['Arad', \"Zerid\", \"Oradea\", \"Sibiu\", \"Timisoara\", \"Lugoj\", \"Mehadia\", \"Drobeta\",\n",
    "         \"Craiova\", \"Rimnicu Vilcea\", \"Pitesti\", \"Fagaras\", \"Bucharest\", \"Giurgiu\", \"Urziceni\",\n",
    "        \"Vaslui\", \"Iasi\", \"Neamt\", \"Hirsova\", \"Eforie\"]\n",
    "print(len(names))"
   ]
  },
  {
   "cell_type": "code",
   "execution_count": 71,
   "metadata": {},
   "outputs": [
    {
     "name": "stdout",
     "output_type": "stream",
     "text": [
      "Arad Zerid Oradea Sibiu Timisoara Lugoj Mehadia Drobeta Craiova Rimnicu Vilcea Pitesti Fagaras Bucharest Giurgiu Urziceni Vaslui Iasi Neamt Hirsova Eforie "
     ]
    }
   ],
   "source": [
    "graph = Graph()\n",
    "for i in range(len(names)):\n",
    "    print(names[i], end = \" \")\n"
   ]
  },
  {
   "cell_type": "code",
   "execution_count": 72,
   "metadata": {},
   "outputs": [
    {
     "name": "stdout",
     "output_type": "stream",
     "text": [
      "Node [Name: Iasi, Connect:dict_keys([])]\n",
      "Node [Name: Vaslui, Connect:dict_keys([])]\n",
      "Node [Name: Sibiu, Connect:dict_keys([])]\n",
      "Node [Name: Zerid, Connect:dict_keys([])]\n",
      "Node [Name: Oradea, Connect:dict_keys([])]\n",
      "Node [Name: Craiova, Connect:dict_keys([])]\n",
      "Node [Name: Eforie, Connect:dict_keys([])]\n",
      "Node [Name: Pitesti, Connect:dict_keys([])]\n",
      "Node [Name: Urziceni, Connect:dict_keys([])]\n",
      "Node [Name: Bucharest, Connect:dict_keys([])]\n",
      "Node [Name: Arad, Connect:dict_keys([])]\n",
      "Node [Name: Lugoj, Connect:dict_keys([])]\n",
      "Node [Name: Drobeta, Connect:dict_keys([])]\n",
      "Node [Name: Hirsova, Connect:dict_keys([])]\n",
      "Node [Name: Rimnicu Vilcea, Connect:dict_keys([])]\n",
      "Node [Name: Giurgiu, Connect:dict_keys([])]\n",
      "Node [Name: Mehadia, Connect:dict_keys([])]\n",
      "Node [Name: Fagaras, Connect:dict_keys([])]\n",
      "Node [Name: Neamt, Connect:dict_keys([])]\n",
      "Node [Name: Timisoara, Connect:dict_keys([])]\n",
      "\n"
     ]
    }
   ],
   "source": [
    "for name in names:\n",
    "    node = Node(name)\n",
    "    graph.addNode(node)\n",
    "print(graph)"
   ]
  },
  {
   "cell_type": "code",
   "execution_count": 73,
   "metadata": {
    "collapsed": true
   },
   "outputs": [],
   "source": [
    "graph.connect(\"Arad\", \"Zerid\");\n",
    "graph.connect(\"Arad\", \"Timisoara\");\n",
    "graph.connect(\"Arad\", \"Sibiu\");\n",
    "\n",
    "graph.connect(\"Zerid\", \"Oradea\");\n",
    "\n",
    "graph.connect(\"Oradea\", \"Sibiu\");\n",
    "\n",
    "graph.connect(\"Sibiu\", \"Fagaras\");\n",
    "graph.connect(\"Sibiu\", \"Rimnicu Vilcea\");\n",
    "\n",
    "graph.connect(\"Timisoara\", \"Lugoj\");\n",
    "\n",
    "graph.connect(\"Lugoj\", \"Mehadia\");\n",
    "\n",
    "graph.connect(\"Mehadia\", \"Drobeta\");\n",
    "\n",
    "graph.connect(\"Drobeta\", \"Craiova\");\n",
    "\n",
    "graph.connect(\"Craiova\", \"Rimnicu Vilcea\");\n",
    "graph.connect(\"Craiova\", \"Pitesti\");\n",
    "\n",
    "graph.connect(\"Rimnicu Vilcea\", \"Pitesti\");\n",
    "\n",
    "graph.connect(\"Pitesti\", \"Bucharest\");\n",
    "\n",
    "graph.connect(\"Bucharest\", \"Giurgiu\");\n",
    "graph.connect(\"Bucharest\", \"Urziceni\");\n",
    "\n",
    "graph.connect(\"Urziceni\", \"Hirsova\");\n",
    "graph.connect(\"Urziceni\", \"Vaslui\");\n",
    "\n",
    "graph.connect(\"Vaslui\", \"Iasi\");\n",
    "graph.connect(\"Iasi\", \"Neamt\");\n",
    "\n",
    "graph.connect(\"Hirsova\", \"Eforie\");\n"
   ]
  },
  {
   "cell_type": "code",
   "execution_count": 74,
   "metadata": {},
   "outputs": [
    {
     "name": "stdout",
     "output_type": "stream",
     "text": [
      "Node [Name: Iasi, Connect:dict_keys(['Vaslui', 'Neamt'])]\n",
      "Node [Name: Vaslui, Connect:dict_keys(['Iasi', 'Urziceni'])]\n",
      "Node [Name: Sibiu, Connect:dict_keys(['Arad', 'Oradea', 'Fagaras', 'Rimnicu Vilcea'])]\n",
      "Node [Name: Zerid, Connect:dict_keys(['Arad', 'Oradea'])]\n",
      "Node [Name: Oradea, Connect:dict_keys(['Sibiu', 'Zerid'])]\n",
      "Node [Name: Craiova, Connect:dict_keys(['Rimnicu Vilcea', 'Drobeta', 'Pitesti'])]\n",
      "Node [Name: Eforie, Connect:dict_keys(['Hirsova'])]\n",
      "Node [Name: Pitesti, Connect:dict_keys(['Bucharest', 'Rimnicu Vilcea', 'Craiova'])]\n",
      "Node [Name: Urziceni, Connect:dict_keys(['Bucharest', 'Vaslui', 'Hirsova'])]\n",
      "Node [Name: Bucharest, Connect:dict_keys(['Giurgiu', 'Pitesti', 'Urziceni'])]\n",
      "Node [Name: Arad, Connect:dict_keys(['Timisoara', 'Sibiu', 'Zerid'])]\n",
      "Node [Name: Lugoj, Connect:dict_keys(['Mehadia', 'Timisoara'])]\n",
      "Node [Name: Drobeta, Connect:dict_keys(['Mehadia', 'Craiova'])]\n",
      "Node [Name: Hirsova, Connect:dict_keys(['Eforie', 'Urziceni'])]\n",
      "Node [Name: Rimnicu Vilcea, Connect:dict_keys(['Pitesti', 'Sibiu', 'Craiova'])]\n",
      "Node [Name: Giurgiu, Connect:dict_keys(['Bucharest'])]\n",
      "Node [Name: Mehadia, Connect:dict_keys(['Lugoj', 'Drobeta'])]\n",
      "Node [Name: Fagaras, Connect:dict_keys(['Sibiu'])]\n",
      "Node [Name: Neamt, Connect:dict_keys(['Iasi'])]\n",
      "Node [Name: Timisoara, Connect:dict_keys(['Arad', 'Lugoj'])]\n",
      "\n"
     ]
    }
   ],
   "source": [
    "print(graph)"
   ]
  }
 ],
 "metadata": {
  "kernelspec": {
   "display_name": "Python 3",
   "language": "python",
   "name": "python3"
  },
  "language_info": {
   "codemirror_mode": {
    "name": "ipython",
    "version": 3
   },
   "file_extension": ".py",
   "mimetype": "text/x-python",
   "name": "python",
   "nbconvert_exporter": "python",
   "pygments_lexer": "ipython3",
   "version": "3.5.2"
  }
 },
 "nbformat": 4,
 "nbformat_minor": 2
}
