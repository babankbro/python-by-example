{
 "cells": [
  {
   "cell_type": "code",
   "execution_count": 1,
   "metadata": {
    "collapsed": true
   },
   "outputs": [],
   "source": [
    "from cell import *\n",
    "from maze_map import *\n",
    "from p5 import *\n",
    "import time\n",
    "\n",
    "map = None\n",
    "\n",
    "def setup():\n",
    "    global map\n",
    "    width = 800\n",
    "    size(width, width)\n",
    "    N = 50\n",
    "    sizeCell = width/N\n",
    "    map =  MazeMap(N, N, sizeCell)\n",
    "    \n",
    "def draw():\n",
    "    background(60)\n",
    "    map.show()\n",
    "    time.sleep(0.1)\n",
    "    \n",
    "run()\n"
   ]
  },
  {
   "cell_type": "markdown",
   "metadata": {},
   "source": [
    "<img src=\"../images/maze1.png\">"
   ]
  }
 ],
 "metadata": {
  "kernelspec": {
   "display_name": "Python 3",
   "language": "python",
   "name": "python3"
  },
  "language_info": {
   "codemirror_mode": {
    "name": "ipython",
    "version": 3
   },
   "file_extension": ".py",
   "mimetype": "text/x-python",
   "name": "python",
   "nbconvert_exporter": "python",
   "pygments_lexer": "ipython3",
   "version": "3.5.2"
  }
 },
 "nbformat": 4,
 "nbformat_minor": 2
}
