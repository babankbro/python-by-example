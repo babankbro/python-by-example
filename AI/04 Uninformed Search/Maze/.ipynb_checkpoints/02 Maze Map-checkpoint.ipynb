{
 "cells": [
  {
   "cell_type": "code",
   "execution_count": null,
   "metadata": {
    "collapsed": true
   },
   "outputs": [],
   "source": [
    "# maze_map.py\n",
    "from cell import *\n",
    "\n",
    "class MazeMap:\n",
    "    def __init__(self, nRow, nCol, sizeCell):\n",
    "        self.nRow = nRow\n",
    "        self.nCol = nCol\n",
    "        self.sizeCell = sizeCell\n",
    "        self.cells = []\n",
    "        self.pathStack = []\n",
    "        \n",
    "        for i in range(nRow):\n",
    "            for j in range(nCol):\n",
    "                cell = Cell(i, j, sizeCell, self)\n",
    "                self.cells.append(cell)\n",
    "        \n",
    "        self.current =self.cells[0]\n",
    "        self.current.visited = True\n",
    "        self.pathStack.append(self.current)\n",
    "        \n",
    "    def show(self):\n",
    "        stroke(255)\n",
    "        for cell in self.cells:\n",
    "            cell.show()\n",
    "        fill(0, 0, 255)\n",
    "        x = self.current.j*self.sizeCell\n",
    "        y = self.current.i*self.sizeCell\n",
    "        rect((x, y), self.sizeCell, self.sizeCell)\n",
    "    \n",
    "        "
   ]
  },
  {
   "cell_type": "code",
   "execution_count": null,
   "metadata": {
    "collapsed": true
   },
   "outputs": [],
   "source": []
  }
 ],
 "metadata": {
  "kernelspec": {
   "display_name": "Python 3",
   "language": "python",
   "name": "python3"
  },
  "language_info": {
   "codemirror_mode": {
    "name": "ipython",
    "version": 3
   },
   "file_extension": ".py",
   "mimetype": "text/x-python",
   "name": "python",
   "nbconvert_exporter": "python",
   "pygments_lexer": "ipython3",
   "version": "3.5.2"
  }
 },
 "nbformat": 4,
 "nbformat_minor": 2
}
