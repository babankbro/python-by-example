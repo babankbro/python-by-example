{
 "cells": [
  {
   "cell_type": "markdown",
   "metadata": {},
   "source": [
    "## Update maze_map.py   move() method  and Add removeWall"
   ]
  },
  {
   "cell_type": "code",
   "execution_count": null,
   "metadata": {
    "collapsed": true
   },
   "outputs": [],
   "source": [
    "\n",
    "def move(self):\n",
    "        next = self.current.checkNeigbhors()\n",
    "        if next != None:\n",
    "            self.removeWall(next, self.current) #เพิ่มบรรทัดนี้\n",
    "            self.current = next #เพิ่มบรรทัดนี้\n",
    "            self.current.visited = True#เพิ่มบรรทัดนี้\n",
    "            self.pathStack.append(self.current)#เพิ่มบรรทัดนี้\n",
    "        else:\n",
    "            if len(self.pathStack) == 0: #เพิ่มบรรทัดนี้\n",
    "                return                   #เพิ่มบรรทัดนี้\n",
    "            self.current = self.pathStack.pop()\n",
    "\n",
    "#เพิ่มเมธอดนี้ ใน maze_map.py\n",
    "def removeWall(self, next, current):\n",
    "    di = next.i - current.i\n",
    "    dj = next.j - current.j\n",
    "    if di == 1: #move down\n",
    "        next.walls[0] = False\n",
    "        current.walls[2] = False\n",
    "    elif di == -1:\n",
    "        next.walls[2] = False\n",
    "        current.walls[0] = False\n",
    "    elif dj == 1:\n",
    "        next.walls[3] = False\n",
    "        current.walls[1] = False\n",
    "    else:\n",
    "        next.walls[1] = False\n",
    "        current.walls[3] = False\n"
   ]
  },
  {
   "cell_type": "markdown",
   "metadata": {},
   "source": [
    "<img src=\"../images/maze3.png\">"
   ]
  }
 ],
 "metadata": {
  "kernelspec": {
   "display_name": "Python 3",
   "language": "python",
   "name": "python3"
  },
  "language_info": {
   "codemirror_mode": {
    "name": "ipython",
    "version": 3
   },
   "file_extension": ".py",
   "mimetype": "text/x-python",
   "name": "python",
   "nbconvert_exporter": "python",
   "pygments_lexer": "ipython3",
   "version": "3.5.2"
  }
 },
 "nbformat": 4,
 "nbformat_minor": 2
}
