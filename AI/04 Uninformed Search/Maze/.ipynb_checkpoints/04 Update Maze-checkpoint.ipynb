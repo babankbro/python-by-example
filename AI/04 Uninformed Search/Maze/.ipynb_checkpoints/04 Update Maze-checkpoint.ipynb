{
 "cells": [
  {
   "cell_type": "markdown",
   "metadata": {},
   "source": [
    "## update  cell.py"
   ]
  },
  {
   "cell_type": "code",
   "execution_count": 1,
   "metadata": {},
   "outputs": [],
   "source": [
    "# ด้านบนไฟล์\n",
    "import math\n",
    "import random \n",
    "\n",
    "# ภายใน  class Cell\n",
    "def checkNeigbhors(self):\n",
    "    neighbor = []\n",
    "    map = self.map\n",
    "    top = map.get(self.i - 1, self.j)\n",
    "    if top and not top.visited:\n",
    "        neighbor.append(top)\n",
    "    bottom = map.get(self.i + 1, self.j)\n",
    "    if bottom and not bottom.visited:\n",
    "        neighbor.append(bottom)\n",
    "    left = map.get(self.i, self.j-1);\n",
    "    if left and not left.visited:\n",
    "        neighbor.append(left)\n",
    "    right = map.get(self.i, self.j+1);\n",
    "    if right and not right.visited:\n",
    "        neighbor.append(right)\n",
    "\n",
    "    N = len(neighbor)\n",
    "    if N > 0:\n",
    "        r = math.floor( random.randint(0, N - 1) )\n",
    "        return neighbor[r]\n",
    "    else:\n",
    "        return None"
   ]
  },
  {
   "cell_type": "markdown",
   "metadata": {},
   "source": [
    "## update  maze_map.py"
   ]
  },
  {
   "cell_type": "code",
   "execution_count": 2,
   "metadata": {
    "collapsed": true
   },
   "outputs": [],
   "source": [
    "\n",
    "# ภายใน  class MazeMap\n",
    "def get(self, i, j):\n",
    "    if i < 0 or j < 0 or i >= self.nRow or j >= self.nCol:\n",
    "        return None\n",
    "    index = j + i*self.nCol\n",
    "    return self.cells[index]\n",
    "\n",
    "def move(self):\n",
    "    next = self.current.checkNeigbhors()\n",
    "    if next != None:\n",
    "        self.current = next\n",
    "        self.current.visited = True\n",
    "    else:\n",
    "        self.current = self.pathStack.pop()\n",
    "        "
   ]
  },
  {
   "cell_type": "markdown",
   "metadata": {},
   "source": [
    "## update Test Map"
   ]
  },
  {
   "cell_type": "code",
   "execution_count": 3,
   "metadata": {
    "collapsed": true
   },
   "outputs": [],
   "source": [
    "def draw():\n",
    "    background(60)\n",
    "    map.move()  # this line is updated\n",
    "    map.show()\n",
    "    time.sleep(0.1)"
   ]
  },
  {
   "cell_type": "markdown",
   "metadata": {},
   "source": [
    "<img src=\"../images/maze2.png\">"
   ]
  }
 ],
 "metadata": {
  "kernelspec": {
   "display_name": "Python 3",
   "language": "python",
   "name": "python3"
  },
  "language_info": {
   "codemirror_mode": {
    "name": "ipython",
    "version": 3
   },
   "file_extension": ".py",
   "mimetype": "text/x-python",
   "name": "python",
   "nbconvert_exporter": "python",
   "pygments_lexer": "ipython3",
   "version": "3.5.2"
  }
 },
 "nbformat": 4,
 "nbformat_minor": 2
}
