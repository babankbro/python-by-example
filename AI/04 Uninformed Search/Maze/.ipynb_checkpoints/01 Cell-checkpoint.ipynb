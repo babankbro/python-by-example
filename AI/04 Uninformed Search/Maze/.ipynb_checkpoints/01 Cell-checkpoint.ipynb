{
 "cells": [
  {
   "cell_type": "code",
   "execution_count": 1,
   "metadata": {
    "collapsed": true
   },
   "outputs": [],
   "source": [
    "# cell.py =====================\n",
    "from p5 import *\n",
    "\n",
    "class Cell:\n",
    "    def __init__(self, i, j, size, map):\n",
    "        self.i = i\n",
    "        self.j = j\n",
    "        self.size = size\n",
    "        self.visited = False\n",
    "        self.map = map\n",
    "        self.walls = [True, True, True, True]\n",
    "    \n",
    "    def show(self):\n",
    "        x = self.j * self.size\n",
    "        y = self.i * self.size\n",
    "\n",
    "        if (self.visited):\n",
    "            no_stroke()\n",
    "            fill(0, 255, 0, 100)\n",
    "            rect((x, y) , self.size, self.size)\n",
    "        \n",
    "        stroke(255)\n",
    "        if self.walls[0]:\n",
    "            line((x, y), (x+self.size, y))\n",
    "        if self.walls[1]:\n",
    "            line((x+self.size, y), (x+self.size, y+self.size))\n",
    "        if self.walls[2]:\n",
    "            line((x, y+self.size), (x+self.size, y+self.size))\n",
    "        if self.walls[3]:\n",
    "            line((x, y), (x, y+self.size))\n",
    "        \n",
    "            \n",
    "# cell.py =====================\n",
    "        "
   ]
  },
  {
   "cell_type": "code",
   "execution_count": 2,
   "metadata": {
    "collapsed": true
   },
   "outputs": [],
   "source": [
    "cell = Cell(10,10, 50, None)\n",
    "\n",
    "def setup():\n",
    "    size(800, 800)\n",
    "    background(60)\n",
    "    \n",
    "def draw():\n",
    "    cell.show()\n",
    "    \n",
    "run()"
   ]
  }
 ],
 "metadata": {
  "kernelspec": {
   "display_name": "Python 3",
   "language": "python",
   "name": "python3"
  },
  "language_info": {
   "codemirror_mode": {
    "name": "ipython",
    "version": 3
   },
   "file_extension": ".py",
   "mimetype": "text/x-python",
   "name": "python",
   "nbconvert_exporter": "python",
   "pygments_lexer": "ipython3",
   "version": "3.5.2"
  }
 },
 "nbformat": 4,
 "nbformat_minor": 2
}
