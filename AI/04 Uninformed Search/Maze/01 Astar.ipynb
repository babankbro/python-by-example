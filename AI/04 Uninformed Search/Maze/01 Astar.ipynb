{
 "cells": [
  {
   "cell_type": "code",
   "execution_count": null,
   "metadata": {
    "collapsed": true
   },
   "outputs": [],
   "source": [
    "#cell.py\n",
    "from p5 import *\n",
    "\n",
    "class Cell:\n",
    "\n",
    "    def __init__(self, i, j, size):\n",
    "        self.i = i #x\n",
    "        self.j = j #y\n",
    "        self.size = size\n",
    "\n",
    "    def show(self, color):\n",
    "        x = self.i * self.size\n",
    "        y = self.j * self.size\n",
    "        fill(color[0], color[1], color[2])\n",
    "        rect(  (x, y), self.size, self.size )"
   ]
  },
  {
   "cell_type": "code",
   "execution_count": null,
   "metadata": {
    "collapsed": true
   },
   "outputs": [],
   "source": [
    "#astar.py\n",
    "from p5 import *\n",
    "from cell import *\n",
    "\n",
    "width = 800\n",
    "cell1 = Cell(0, 0, 50)\n",
    "cell2= Cell(1, 0, 50)\n",
    "cell3= Cell(2, 0, 50)\n",
    "\n",
    "def setup():\n",
    "    size(width, width)\n",
    "    background(60)\n",
    "\n",
    "def draw():\n",
    "    background(60)\n",
    "    cell1.show((255, 0, 0))\n",
    "    cell2.show((0, 255, 0))\n",
    "    cell3.show((0, 255, 0))\n",
    "    \n",
    "\n",
    "run()\n"
   ]
  }
 ],
 "metadata": {
  "kernelspec": {
   "display_name": "Python 3",
   "language": "python",
   "name": "python3"
  },
  "language_info": {
   "codemirror_mode": {
    "name": "ipython",
    "version": 3
   },
   "file_extension": ".py",
   "mimetype": "text/x-python",
   "name": "python",
   "nbconvert_exporter": "python",
   "pygments_lexer": "ipython3",
   "version": "3.5.2"
  }
 },
 "nbformat": 4,
 "nbformat_minor": 2
}
