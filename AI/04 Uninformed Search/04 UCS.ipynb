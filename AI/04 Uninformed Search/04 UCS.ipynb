{
 "cells": [
  {
   "cell_type": "markdown",
   "metadata": {},
   "source": [
    "# Uniform Cost Search \n",
    "เพิ่ม class DistanceGraph ลง"
   ]
  },
  {
   "cell_type": "code",
   "execution_count": 7,
   "metadata": {},
   "outputs": [],
   "source": [
    "from problem2 import *"
   ]
  },
  {
   "cell_type": "code",
   "execution_count": 8,
   "metadata": {
    "collapsed": true
   },
   "outputs": [],
   "source": [
    "from heapq import *\n",
    "\n",
    "def ucsSearch(graph, start, end):\n",
    "    pqueue = []\n",
    "    node = graph.nodes[start]\n",
    "    heappush(pqueue, (0, node))\n",
    "    closedList = [start]\n",
    "    \n",
    "    while len(pqueue) != 0:\n",
    "        print( [(pair[0], pair[1].name) for pair in pqueue])\n",
    "        value, current = heappop(pqueue)\n",
    "        print(current.name)\n",
    "        if current.name == end:\n",
    "            break;\n",
    "            \n",
    "        for name in current.connect:\n",
    "            dis, childNode = current.connect[name]\n",
    "            #print(dis, childNode.name)\n",
    "            #print(\"=========\")\n",
    "            if name in closedList:\n",
    "                continue\n",
    "            \n",
    "            closedList.append(childNode.name)\n",
    "            heappush(pqueue, (dis + value, childNode))"
   ]
  },
  {
   "cell_type": "code",
   "execution_count": 9,
   "metadata": {},
   "outputs": [
    {
     "name": "stdout",
     "output_type": "stream",
     "text": [
      "[(0, 'Arad')]\n",
      "Arad\n",
      "[(75, 'Zerid'), (140, 'Sibiu'), (118, 'Timisoara')]\n",
      "Zerid\n",
      "[(118, 'Timisoara'), (140, 'Sibiu'), (146, 'Oradea')]\n",
      "Timisoara\n",
      "[(140, 'Sibiu'), (146, 'Oradea'), (229, 'Lugoj')]\n",
      "Sibiu\n",
      "[(146, 'Oradea'), (220, 'Rimnicu Vilcea'), (239, 'Fagaras'), (229, 'Lugoj')]\n",
      "Oradea\n",
      "[(220, 'Rimnicu Vilcea'), (229, 'Lugoj'), (239, 'Fagaras')]\n",
      "Rimnicu Vilcea\n"
     ]
    }
   ],
   "source": [
    "ucsSearch(graph, \"Arad\", \"Rimnicu Vilcea\")"
   ]
  }
 ],
 "metadata": {
  "kernelspec": {
   "display_name": "Python 3",
   "language": "python",
   "name": "python3"
  },
  "language_info": {
   "codemirror_mode": {
    "name": "ipython",
    "version": 3
   },
   "file_extension": ".py",
   "mimetype": "text/x-python",
   "name": "python",
   "nbconvert_exporter": "python",
   "pygments_lexer": "ipython3",
   "version": "3.5.2"
  }
 },
 "nbformat": 4,
 "nbformat_minor": 2
}
