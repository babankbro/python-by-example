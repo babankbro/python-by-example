{
 "cells": [
  {
   "cell_type": "markdown",
   "metadata": {
    "collapsed": true
   },
   "source": [
    "## การใช้ list เป็น stack"
   ]
  },
  {
   "cell_type": "code",
   "execution_count": 18,
   "metadata": {},
   "outputs": [
    {
     "name": "stdout",
     "output_type": "stream",
     "text": [
      "['A', 'B', 'C', 'D']\n"
     ]
    }
   ],
   "source": [
    "stack = []\n",
    "\n",
    "# push ข้อมูล ด้วย append(item)\n",
    "stack.append('A')\n",
    "stack.append('B')\n",
    "stack.append('C')\n",
    "stack.append('D')\n",
    "print(stack)"
   ]
  },
  {
   "cell_type": "code",
   "execution_count": 19,
   "metadata": {},
   "outputs": [
    {
     "name": "stdout",
     "output_type": "stream",
     "text": [
      "D\n"
     ]
    }
   ],
   "source": [
    "#pop stack pop()\n",
    "item = stack.pop()\n",
    "print(item)"
   ]
  },
  {
   "cell_type": "code",
   "execution_count": 20,
   "metadata": {},
   "outputs": [
    {
     "name": "stdout",
     "output_type": "stream",
     "text": [
      "C\n",
      "B\n",
      "A\n"
     ]
    }
   ],
   "source": [
    "print(stack.pop())\n",
    "print(stack.pop())\n",
    "print(stack.pop())"
   ]
  },
  {
   "cell_type": "markdown",
   "metadata": {},
   "source": [
    "## การใช้ list เป็น queue"
   ]
  },
  {
   "cell_type": "code",
   "execution_count": 21,
   "metadata": {},
   "outputs": [
    {
     "name": "stdout",
     "output_type": "stream",
     "text": [
      "deque(['A', 'B', 'C', 'D'])\n"
     ]
    }
   ],
   "source": [
    "from collections import deque\n",
    "\n",
    "# enqueue ข้อมูล ด้วย append(item)\n",
    "queue = deque([])\n",
    "queue.append('A')\n",
    "queue.append('B')\n",
    "queue.append('C')\n",
    "queue.append('D')\n",
    "print(queue)"
   ]
  },
  {
   "cell_type": "code",
   "execution_count": 22,
   "metadata": {},
   "outputs": [
    {
     "name": "stdout",
     "output_type": "stream",
     "text": [
      "A\n"
     ]
    }
   ],
   "source": [
    "#dequeue of queue by popleft()\n",
    "item = queue.popleft()\n",
    "print(item)"
   ]
  },
  {
   "cell_type": "code",
   "execution_count": 23,
   "metadata": {},
   "outputs": [
    {
     "name": "stdout",
     "output_type": "stream",
     "text": [
      "B\n",
      "C\n",
      "D\n"
     ]
    }
   ],
   "source": [
    "print(queue.popleft())\n",
    "print(queue.popleft())\n",
    "print(queue.popleft())"
   ]
  },
  {
   "cell_type": "markdown",
   "metadata": {},
   "source": [
    "## การใช้ list เป็น priority queue หรือ heap"
   ]
  },
  {
   "cell_type": "code",
   "execution_count": 24,
   "metadata": {},
   "outputs": [
    {
     "name": "stdout",
     "output_type": "stream",
     "text": [
      "[(1, 'C'), (3, 'D'), (5, 'A'), (7, 'B')]\n"
     ]
    }
   ],
   "source": [
    "from heapq import *\n",
    "\n",
    "pqueue = []\n",
    "\n",
    "# enqueue ข้อมูล ด้วย heappush(list, (value, item))\n",
    "heappush(pqueue, (5, 'A'))\n",
    "heappush(pqueue, (7, 'B'))\n",
    "heappush(pqueue, (1, 'C'))\n",
    "heappush(pqueue, (3, 'D'))\n",
    "print(pqueue)"
   ]
  },
  {
   "cell_type": "code",
   "execution_count": 25,
   "metadata": {},
   "outputs": [
    {
     "name": "stdout",
     "output_type": "stream",
     "text": [
      "(1, 'C')\n"
     ]
    }
   ],
   "source": [
    "#dequeue of queue by heappop(list)\n",
    "item = heappop(pqueue)\n",
    "print(item)"
   ]
  },
  {
   "cell_type": "code",
   "execution_count": 26,
   "metadata": {},
   "outputs": [
    {
     "name": "stdout",
     "output_type": "stream",
     "text": [
      "(3, 'D')\n",
      "(5, 'A')\n",
      "(7, 'B')\n"
     ]
    }
   ],
   "source": [
    "print(heappop(pqueue))\n",
    "print(heappop(pqueue))\n",
    "print(heappop(pqueue))"
   ]
  }
 ],
 "metadata": {
  "kernelspec": {
   "display_name": "Python 3",
   "language": "python",
   "name": "python3"
  },
  "language_info": {
   "codemirror_mode": {
    "name": "ipython",
    "version": 3
   },
   "file_extension": ".py",
   "mimetype": "text/x-python",
   "name": "python",
   "nbconvert_exporter": "python",
   "pygments_lexer": "ipython3",
   "version": "3.5.2"
  }
 },
 "nbformat": 4,
 "nbformat_minor": 2
}
