{
 "cells": [
  {
   "cell_type": "markdown",
   "metadata": {},
   "source": [
    "### การเก็บเบอร์โทรศัพท์"
   ]
  },
  {
   "cell_type": "code",
   "execution_count": 4,
   "metadata": {},
   "outputs": [
    {
     "name": "stdout",
     "output_type": "stream",
     "text": [
      "088-111-1011\n",
      "088-111-1012\n",
      "088-999-9999\n"
     ]
    }
   ],
   "source": [
    "myFriend = ['088-111-1011', '088-111-1012', '088-999-9999']\n",
    "print(myFriend[0])\n",
    "print(myFriend[1])\n",
    "print(myFriend[2])"
   ]
  },
  {
   "cell_type": "markdown",
   "metadata": {},
   "source": [
    "## การใช้ Dictionary"
   ]
  },
  {
   "cell_type": "code",
   "execution_count": 5,
   "metadata": {},
   "outputs": [
    {
     "name": "stdout",
     "output_type": "stream",
     "text": [
      "{'Bank': '088-999-9999', 'Bob': '088-111-1012', 'Jack': '088-111-1011'}\n"
     ]
    }
   ],
   "source": [
    "myFriendDic = {\"Jack\": '088-111-1011', \"Bob\" :'088-111-1012', \"Bank\":'088-999-9999'}\n",
    "print(myFriendDic)"
   ]
  },
  {
   "cell_type": "code",
   "execution_count": 6,
   "metadata": {},
   "outputs": [
    {
     "name": "stdout",
     "output_type": "stream",
     "text": [
      "088-111-1011\n",
      "088-111-1012\n",
      "088-999-9999\n"
     ]
    }
   ],
   "source": [
    "print(myFriendDic[\"Jack\"])\n",
    "print(myFriendDic[\"Bob\"])\n",
    "print(myFriendDic[\"Bank\"])"
   ]
  },
  {
   "cell_type": "code",
   "execution_count": null,
   "metadata": {
    "collapsed": true
   },
   "outputs": [],
   "source": []
  }
 ],
 "metadata": {
  "kernelspec": {
   "display_name": "Python 3",
   "language": "python",
   "name": "python3"
  },
  "language_info": {
   "codemirror_mode": {
    "name": "ipython",
    "version": 3
   },
   "file_extension": ".py",
   "mimetype": "text/x-python",
   "name": "python",
   "nbconvert_exporter": "python",
   "pygments_lexer": "ipython3",
   "version": "3.5.2"
  }
 },
 "nbformat": 4,
 "nbformat_minor": 2
}
