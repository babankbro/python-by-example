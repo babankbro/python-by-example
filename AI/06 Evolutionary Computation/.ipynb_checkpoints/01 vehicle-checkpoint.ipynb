{
 "cells": [
  {
   "cell_type": "code",
   "execution_count": null,
   "metadata": {
    "collapsed": true
   },
   "outputs": [],
   "source": [
    "# create file vehicle.py\n",
    "from p5 import *\n",
    "import numpy\n",
    "\n",
    "class Vehicle:\n",
    "\n",
    "    def __init__(self, x, y, maxSpeed=10):\n",
    "        self.acceleration = Vector(0, 0)\n",
    "        self.velocity = Vector(0, -2)\n",
    "        self.position = Vector(x, y)\n",
    "        self.r = 10\n",
    "        self.maxSpeed = maxSpeed\n",
    "        self.maxforce = 0.2\n",
    "\n",
    "    def update(self):\n",
    "        self.velocity += self.acceleration\n",
    "        self.velocity.limit(self.maxSpeed)\n",
    "        self.position += self.velocity\n",
    "        self.acceleration *= 0\n",
    "\n",
    "    def applyForce(self, force):\n",
    "        self.acceleration += force\n",
    "\n",
    "    def seek(self, target):\n",
    "        desired = target - self.position\n",
    "\n",
    "        desired.normalize()\n",
    "        desired *= self.maxSpeed\n",
    "\n",
    "        steer = desired - self.velocity\n",
    "        steer.limit(self.maxforce)\n",
    "\n",
    "        self.applyForce(steer)\n",
    "\n",
    "    def draw(self):\n",
    "        theta = self.velocity.angle + radians(90)\n",
    "        fill(180)\n",
    "        stroke(220)\n",
    "        translate(self.position.x, self.position.y)\n",
    "        rotate_z(theta)\n",
    "        triangle( (0, -self.r*2, 0),\n",
    "                  (-self.r, self.r*2, 0),\n",
    "                  (self.r, self.r*2, 0))\n",
    "        rotate_z(-theta)\n",
    "        translate(-self.position.x, -self.position.y)\n",
    "          "
   ]
  }
 ],
 "metadata": {
  "kernelspec": {
   "display_name": "Python 3",
   "language": "python",
   "name": "python3"
  },
  "language_info": {
   "codemirror_mode": {
    "name": "ipython",
    "version": 3
   },
   "file_extension": ".py",
   "mimetype": "text/x-python",
   "name": "python",
   "nbconvert_exporter": "python",
   "pygments_lexer": "ipython3",
   "version": "3.5.2"
  }
 },
 "nbformat": 4,
 "nbformat_minor": 2
}
