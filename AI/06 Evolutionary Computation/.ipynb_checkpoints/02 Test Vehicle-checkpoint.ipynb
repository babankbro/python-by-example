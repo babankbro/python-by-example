{
 "cells": [
  {
   "cell_type": "code",
   "execution_count": null,
   "metadata": {
    "collapsed": true
   },
   "outputs": [],
   "source": [
    "from p5 import *\n",
    "from vehicle import *\n",
    "\n",
    "vehicle = Vehicle(100, 100)\n",
    "\n",
    "def setup():\n",
    "    size(800, 800)\n",
    "\n",
    "def draw():\n",
    "    background(60)\n",
    "    target = Vector(mouse_x, mouse_y)\n",
    "    vehicle.seek(target)\n",
    "    vehicle.update()\n",
    "    vehicle.draw()\n",
    "    circle( (mouse_x, mouse_y), 30)\n",
    "\n",
    "run()"
   ]
  },
  {
   "cell_type": "code",
   "execution_count": null,
   "metadata": {
    "collapsed": true
   },
   "outputs": [],
   "source": [
    "<img src=\"images/steer01.png\">"
   ]
  }
 ],
 "metadata": {
  "kernelspec": {
   "display_name": "Python 3",
   "language": "python",
   "name": "python3"
  },
  "language_info": {
   "codemirror_mode": {
    "name": "ipython",
    "version": 3
   },
   "file_extension": ".py",
   "mimetype": "text/x-python",
   "name": "python",
   "nbconvert_exporter": "python",
   "pygments_lexer": "ipython3",
   "version": "3.5.2"
  }
 },
 "nbformat": 4,
 "nbformat_minor": 2
}
