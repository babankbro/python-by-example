{
 "cells": [
  {
   "cell_type": "code",
   "execution_count": 1,
   "metadata": {
    "collapsed": true
   },
   "outputs": [],
   "source": [
    "# เพิ่มโค้ดลงที่ vehicle.py \n",
    "class Vehicle:\n",
    "    #code เก่า\n",
    "    \n",
    "    #เพิ่มโค้ด การกิน\n",
    "    def eat(self, poslist):\n",
    "        if len(poslist) == 0:\n",
    "            return\n",
    "        minDis =  poslist[0].distance(self.position)\n",
    "        closest = poslist[0]\n",
    "        for pos in poslist:\n",
    "            dis = pos.distance(self.position)\n",
    "            if dis < minDis:\n",
    "                minDis = dis\n",
    "                closest = pos\n",
    "                \n",
    "        if minDis < 10:\n",
    "            poslist.remove(closest)\n",
    "        else:\n",
    "            self.seek(closest)"
   ]
  },
  {
   "cell_type": "code",
   "execution_count": 2,
   "metadata": {
    "collapsed": true
   },
   "outputs": [],
   "source": [
    "# เพิ่มโค้ดลงไฟล์ vehicle_test.py\n",
    "from p5 import *\n",
    "from vehicle import *\n",
    "import random\n",
    "\n",
    "vehicle = Vehicle(100, 100)\n",
    "screen_width = 800\n",
    "nfood = 20\n",
    "food = []\n",
    "\n",
    "# เพิ่ม methods ลงมา\n",
    "def generate_food():\n",
    "    for i in range(nfood):\n",
    "        x = random.random()*screen_width\n",
    "        y = random.random()*screen_width\n",
    "        food.append(Vector(x, y))\n",
    "\n",
    "def draw_food():\n",
    "    fill(0, 255, 0)\n",
    "    for fd in food:\n",
    "        circle( (fd.x, fd.y), 5)\n",
    "        \n",
    "def generate_food():\n",
    "    for i in range(nfood):\n",
    "        x = random.random()*screen_width\n",
    "        y = random.random()*screen_width\n",
    "        food.append(Vector(x, y))\n",
    "\n",
    "def setup():\n",
    "    size(screen_width, screen_width) #เเก้ไขโค้ดเดิม\n",
    "    generate_food() \n",
    "\n",
    "def draw():\n",
    "    background(60)\n",
    "    \n",
    "    if len(food) > 0:\n",
    "        vehicle.eat(food)\n",
    "    else:\n",
    "        target = Vector(mouse_x, mouse_y)\n",
    "        vehicle.seek(target)\n",
    "\n",
    "    vehicle.update()\n",
    "    vehicle.draw()\n",
    "    circle( (mouse_x, mouse_y), 30)\n",
    "\n",
    "    draw_food()\n",
    "\n",
    "run()\n"
   ]
  },
  {
   "cell_type": "markdown",
   "metadata": {},
   "source": [
    "<img src=\"images/steer02.png\">"
   ]
  }
 ],
 "metadata": {
  "kernelspec": {
   "display_name": "Python 3",
   "language": "python",
   "name": "python3"
  },
  "language_info": {
   "codemirror_mode": {
    "name": "ipython",
    "version": 3
   },
   "file_extension": ".py",
   "mimetype": "text/x-python",
   "name": "python",
   "nbconvert_exporter": "python",
   "pygments_lexer": "ipython3",
   "version": "3.5.2"
  }
 },
 "nbformat": 4,
 "nbformat_minor": 2
}
