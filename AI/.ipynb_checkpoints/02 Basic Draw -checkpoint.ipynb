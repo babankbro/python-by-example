{
 "cells": [
  {
   "cell_type": "code",
   "execution_count": 1,
   "metadata": {},
   "outputs": [],
   "source": [
    "from p5 import *\n",
    "\n",
    "def setup():\n",
    "    size(400, 300)\n",
    "    background(255)\n",
    "    \n",
    "def draw():\n",
    "    stroke(10, 255, 200)\n",
    "    fill(255, 100, 100)\n",
    "    \n",
    "    point(200, 200)\n",
    "    line((10, 240), (110, 240))\n",
    "    rect((10, 20) , 100, 200)\n",
    "    ellipse((310, 50), 50, 50)\n",
    "    \n",
    "run()"
   ]
  }
 ],
 "metadata": {
  "kernelspec": {
   "display_name": "Python 3",
   "language": "python",
   "name": "python3"
  },
  "language_info": {
   "codemirror_mode": {
    "name": "ipython",
    "version": 3
   },
   "file_extension": ".py",
   "mimetype": "text/x-python",
   "name": "python",
   "nbconvert_exporter": "python",
   "pygments_lexer": "ipython3",
   "version": "3.5.2"
  }
 },
 "nbformat": 4,
 "nbformat_minor": 2
}
