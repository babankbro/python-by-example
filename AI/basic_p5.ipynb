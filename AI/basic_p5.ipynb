{
 "cells": [
  {
   "cell_type": "code",
   "execution_count": 1,
   "metadata": {
    "collapsed": true
   },
   "outputs": [],
   "source": [
    "from p5 import *\n",
    "\n",
    "def setup():\n",
    "    size(640, 360)\n",
    "    no_stroke()\n",
    "    background(204)\n",
    "\n",
    "def draw():\n",
    "    if mouse_is_pressed:\n",
    "        fill(random_uniform(255), random_uniform(127), random_uniform(51), 127)\n",
    "    else:\n",
    "        fill(255, 15)\n",
    "\n",
    "    circle_size = random_uniform(low=10, high=80)\n",
    "\n",
    "    circle((mouse_x, mouse_y), circle_size)\n",
    "\n",
    "def key_pressed(event):\n",
    "    background(204)\n",
    "\n",
    "run()"
   ]
  },
  {
   "cell_type": "markdown",
   "metadata": {
    "collapsed": true
   },
   "source": [
    "#Size window\n",
    "ระบุขนาดหน้าจอ"
   ]
  },
  {
   "cell_type": "code",
   "execution_count": 5,
   "metadata": {},
   "outputs": [
    {
     "name": "stdout",
     "output_type": "stream",
     "text": [
      "617 -2\n"
     ]
    }
   ],
   "source": [
    "print(mouse_x, mouse_y)"
   ]
  },
  {
   "cell_type": "code",
   "execution_count": null,
   "metadata": {
    "collapsed": true
   },
   "outputs": [],
   "source": []
  }
 ],
 "metadata": {
  "kernelspec": {
   "display_name": "Python 3",
   "language": "python",
   "name": "python3"
  },
  "language_info": {
   "codemirror_mode": {
    "name": "ipython",
    "version": 3
   },
   "file_extension": ".py",
   "mimetype": "text/x-python",
   "name": "python",
   "nbconvert_exporter": "python",
   "pygments_lexer": "ipython3",
   "version": "3.5.2"
  }
 },
 "nbformat": 4,
 "nbformat_minor": 2
}
